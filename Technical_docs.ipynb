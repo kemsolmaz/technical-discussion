{
  "nbformat": 4,
  "nbformat_minor": 0,
  "metadata": {
    "colab": {
      "name": "Technical-docs.ipynb",
      "provenance": [],
      "authorship_tag": "ABX9TyM3PokDas6CoQ3qpjFaBEuI",
      "include_colab_link": true
    },
    "kernelspec": {
      "name": "python3",
      "display_name": "Python 3"
    },
    "language_info": {
      "name": "python"
    }
  },
  "cells": [
    {
      "cell_type": "markdown",
      "metadata": {
        "id": "view-in-github",
        "colab_type": "text"
      },
      "source": [
        "<a href=\"https://colab.research.google.com/github/kemsolmaz/technical-discussion/blob/master/Technical_docs.ipynb\" target=\"_parent\"><img src=\"https://colab.research.google.com/assets/colab-badge.svg\" alt=\"Open In Colab\"/></a>"
      ]
    },
    {
      "cell_type": "markdown",
      "metadata": {
        "id": "YYhgtkOMZxCX"
      },
      "source": [
        "##Ingest"
      ]
    },
    {
      "cell_type": "code",
      "metadata": {
        "colab": {
          "base_uri": "https://localhost:8080/",
          "height": 35
        },
        "id": "lSdbRFGcYNqP",
        "outputId": "f6c1a3c0-15bb-4aae-dc8d-9a63eedef766"
      },
      "source": [
        "def hello ():\n",
        "  return (\"Hello World\")\n",
        "hello ()\n"
      ],
      "execution_count": 2,
      "outputs": [
        {
          "output_type": "execute_result",
          "data": {
            "application/vnd.google.colaboratory.intrinsic+json": {
              "type": "string"
            },
            "text/plain": [
              "'Hello World'"
            ]
          },
          "metadata": {},
          "execution_count": 2
        }
      ]
    },
    {
      "cell_type": "markdown",
      "metadata": {
        "id": "2_26MZk9Z1sN"
      },
      "source": [
        "##EDA"
      ]
    },
    {
      "cell_type": "code",
      "metadata": {
        "id": "F5QWjcPaaTln"
      },
      "source": [
        ""
      ],
      "execution_count": null,
      "outputs": []
    },
    {
      "cell_type": "markdown",
      "metadata": {
        "id": "Ts0tV2MbcU5H"
      },
      "source": [
        "### this is a markdown heading \n",
        "* one\n",
        "* Two\n",
        "* Three\n"
      ]
    },
    {
      "cell_type": "markdown",
      "metadata": {
        "id": "y2HiNVW5adGq"
      },
      "source": [
        "## Modelling Phase"
      ]
    },
    {
      "cell_type": "code",
      "metadata": {
        "id": "Tm9M-IUwaqzb"
      },
      "source": [
        ""
      ],
      "execution_count": null,
      "outputs": []
    },
    {
      "cell_type": "markdown",
      "metadata": {
        "id": "kbPS_eIMaO15"
      },
      "source": [
        ""
      ]
    },
    {
      "cell_type": "markdown",
      "metadata": {
        "id": "YXqqwE0taoUi"
      },
      "source": [
        "##Conclusion"
      ]
    },
    {
      "cell_type": "markdown",
      "metadata": {
        "id": "sY7oRGsxa0WZ"
      },
      "source": [
        ""
      ]
    }
  ]
}